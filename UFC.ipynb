{
 "cells": [
  {
   "cell_type": "markdown",
   "metadata": {},
   "source": [
    "# The UFC Hen that laid golden eggs\n",
    "lorem ipsum\n",
    "CSV from: https://www.kaggle.com/datasets/remypereira/mma-dataset-2023-ufc?resource=download"
   ]
  },
  {
   "cell_type": "markdown",
   "metadata": {},
   "source": [
    "### Import files and create DataFrames  "
   ]
  },
  {
   "cell_type": "code",
   "execution_count": 2,
   "metadata": {},
   "outputs": [],
   "source": [
    "import pandas as pd"
   ]
  },
  {
   "cell_type": "markdown",
   "metadata": {},
   "source": [
    "Creta a Dataframe with content on CSV"
   ]
  },
  {
   "cell_type": "code",
   "execution_count": 3,
   "metadata": {},
   "outputs": [],
   "source": [
    "df_fighters_data = pd.read_csv('data/ufc_fighter_data.csv')\n",
    "df_fighters_stats_data = pd.read_csv('data/ufc_fight_stat_data.csv')\n",
    "df_fights_data = pd.read_csv('data/ufc_fight_data.csv')\n",
    "df_events_data = pd.read_csv('data/ufc_event_data.csv')"
   ]
  },
  {
   "cell_type": "markdown",
   "metadata": {},
   "source": [
    "Rename columns to be more clear "
   ]
  },
  {
   "cell_type": "code",
   "execution_count": 4,
   "metadata": {},
   "outputs": [],
   "source": [
    "df_fighters_data = df_fighters_data.rename(\n",
    "    columns={\n",
    "        'fighter_f_name': 'name', \n",
    "        'fighter_l_name': 'lastname', \n",
    "        'fighter_nickname': 'nickname',\n",
    "        'fighter_height_cm': 'height_cm',\n",
    "        'fighter_weight_lbs': 'weight_lbs',\n",
    "        'fighter_reach_cm': 'reach_cm',\n",
    "        'fighter_stance': 'stance',\n",
    "        'fighter_dob': 'date_birth',\n",
    "        'fighter_w': 'wins',\n",
    "        'fighter_l': 'losses',\n",
    "        'fighter_d': 'draws',\n",
    "        'fighter_nc_dq': 'no_contests', # No. of no contests or disqualifications\n",
    "        'fighter_url': 'url' # URL used to scrape fighter data from ufcstats.com\n",
    "    })"
   ]
  },
  {
   "cell_type": "code",
   "execution_count": 5,
   "metadata": {},
   "outputs": [],
   "source": [
    "df_fights_and_stats = pd.merge(df_fights_data, df_fighters_stats_data, on='fight_id', how='inner')\n",
    "df_fighters = pd.merge(df_fights_and_stats, df_fighters_data, on='fighter_id', how='inner')\n",
    "df_events = pd.merge(df_fighters, df_events_data, on='event_id', how='inner')"
   ]
  },
  {
   "cell_type": "markdown",
   "metadata": {},
   "source": [
    "## Some Stats about figherts in UFC"
   ]
  },
  {
   "cell_type": "markdown",
   "metadata": {},
   "source": [
    "### Fighter with more fights in UFC"
   ]
  },
  {
   "cell_type": "code",
   "execution_count": 6,
   "metadata": {},
   "outputs": [
    {
     "data": {
      "text/html": [
       "<div>\n",
       "<style scoped>\n",
       "    .dataframe tbody tr th:only-of-type {\n",
       "        vertical-align: middle;\n",
       "    }\n",
       "\n",
       "    .dataframe tbody tr th {\n",
       "        vertical-align: top;\n",
       "    }\n",
       "\n",
       "    .dataframe thead th {\n",
       "        text-align: right;\n",
       "    }\n",
       "</style>\n",
       "<table border=\"1\" class=\"dataframe\">\n",
       "  <thead>\n",
       "    <tr style=\"text-align: right;\">\n",
       "      <th></th>\n",
       "      <th>num_fights</th>\n",
       "      <th>name</th>\n",
       "      <th>lastname</th>\n",
       "      <th>nickname</th>\n",
       "    </tr>\n",
       "  </thead>\n",
       "  <tbody>\n",
       "    <tr>\n",
       "      <th>0</th>\n",
       "      <td>41</td>\n",
       "      <td>Jim</td>\n",
       "      <td>Miller</td>\n",
       "      <td>A-10</td>\n",
       "    </tr>\n",
       "    <tr>\n",
       "      <th>32</th>\n",
       "      <td>41</td>\n",
       "      <td>Jim</td>\n",
       "      <td>Miller</td>\n",
       "      <td>A-10</td>\n",
       "    </tr>\n",
       "    <tr>\n",
       "      <th>23</th>\n",
       "      <td>41</td>\n",
       "      <td>Jim</td>\n",
       "      <td>Miller</td>\n",
       "      <td>A-10</td>\n",
       "    </tr>\n",
       "    <tr>\n",
       "      <th>24</th>\n",
       "      <td>41</td>\n",
       "      <td>Jim</td>\n",
       "      <td>Miller</td>\n",
       "      <td>A-10</td>\n",
       "    </tr>\n",
       "    <tr>\n",
       "      <th>25</th>\n",
       "      <td>41</td>\n",
       "      <td>Jim</td>\n",
       "      <td>Miller</td>\n",
       "      <td>A-10</td>\n",
       "    </tr>\n",
       "    <tr>\n",
       "      <th>26</th>\n",
       "      <td>41</td>\n",
       "      <td>Jim</td>\n",
       "      <td>Miller</td>\n",
       "      <td>A-10</td>\n",
       "    </tr>\n",
       "    <tr>\n",
       "      <th>27</th>\n",
       "      <td>41</td>\n",
       "      <td>Jim</td>\n",
       "      <td>Miller</td>\n",
       "      <td>A-10</td>\n",
       "    </tr>\n",
       "    <tr>\n",
       "      <th>28</th>\n",
       "      <td>41</td>\n",
       "      <td>Jim</td>\n",
       "      <td>Miller</td>\n",
       "      <td>A-10</td>\n",
       "    </tr>\n",
       "    <tr>\n",
       "      <th>29</th>\n",
       "      <td>41</td>\n",
       "      <td>Jim</td>\n",
       "      <td>Miller</td>\n",
       "      <td>A-10</td>\n",
       "    </tr>\n",
       "    <tr>\n",
       "      <th>31</th>\n",
       "      <td>41</td>\n",
       "      <td>Jim</td>\n",
       "      <td>Miller</td>\n",
       "      <td>A-10</td>\n",
       "    </tr>\n",
       "  </tbody>\n",
       "</table>\n",
       "</div>"
      ],
      "text/plain": [
       "    num_fights name lastname nickname\n",
       "0           41  Jim   Miller     A-10\n",
       "32          41  Jim   Miller     A-10\n",
       "23          41  Jim   Miller     A-10\n",
       "24          41  Jim   Miller     A-10\n",
       "25          41  Jim   Miller     A-10\n",
       "26          41  Jim   Miller     A-10\n",
       "27          41  Jim   Miller     A-10\n",
       "28          41  Jim   Miller     A-10\n",
       "29          41  Jim   Miller     A-10\n",
       "31          41  Jim   Miller     A-10"
      ]
     },
     "execution_count": 6,
     "metadata": {},
     "output_type": "execute_result"
    }
   ],
   "source": [
    "# Count the number of fights per fighter\n",
    "fights_per_fighter = df_events['fighter_id'].value_counts()\n",
    "\n",
    "# Create a dataframe with the number of fights per fighter\n",
    "df_fights_per_fighter = pd.DataFrame({'fighter_id': fights_per_fighter.index, 'num_fights': fights_per_fighter.values}) \n",
    "\n",
    "# Merge the dataframe with the number of fights per fighter with the dataframe of fighters\n",
    "df_fights_per_fighter = pd.merge(df_fights_per_fighter, df_fighters, on='fighter_id', how='inner')\n",
    "\n",
    "fighter_more_fights = df_fights_per_fighter.sort_values(by='num_fights', ascending=False)\n",
    "fighter_more_fights[['num_fights', 'name', 'lastname', 'nickname']].head(10)\n"
   ]
  },
  {
   "cell_type": "markdown",
   "metadata": {},
   "source": [
    "### Youngest UFC Fighter"
   ]
  },
  {
   "cell_type": "code",
   "execution_count": 7,
   "metadata": {},
   "outputs": [],
   "source": [
    "from datetime import datetime\n",
    "\n",
    "df_fighters_data['date_birth'] = pd.to_datetime(df_fighters_data['date_birth'])\n",
    "df_fighters_data['age'] = None\n",
    "today = datetime.now().date()\n",
    "\n",
    "for index, row in df_fighters_data.iterrows():\n",
    "    birth_date = row['date_birth'].date()\n",
    "    age = today.year - birth_date.year - ((today.month, today.day) < (birth_date.month, birth_date.day))\n",
    "    df_fighters_data.at[index, 'age'] = age"
   ]
  },
  {
   "cell_type": "code",
   "execution_count": 16,
   "metadata": {},
   "outputs": [
    {
     "data": {
      "text/html": [
       "<div>\n",
       "<style scoped>\n",
       "    .dataframe tbody tr th:only-of-type {\n",
       "        vertical-align: middle;\n",
       "    }\n",
       "\n",
       "    .dataframe tbody tr th {\n",
       "        vertical-align: top;\n",
       "    }\n",
       "\n",
       "    .dataframe thead th {\n",
       "        text-align: right;\n",
       "    }\n",
       "</style>\n",
       "<table border=\"1\" class=\"dataframe\">\n",
       "  <thead>\n",
       "    <tr style=\"text-align: right;\">\n",
       "      <th></th>\n",
       "      <th>name</th>\n",
       "      <th>lastname</th>\n",
       "      <th>age</th>\n",
       "    </tr>\n",
       "  </thead>\n",
       "  <tbody>\n",
       "    <tr>\n",
       "      <th>3814</th>\n",
       "      <td>Ron</td>\n",
       "      <td>van Clief</td>\n",
       "      <td>81</td>\n",
       "    </tr>\n",
       "    <tr>\n",
       "      <th>650</th>\n",
       "      <td>Branko</td>\n",
       "      <td>Cikatic</td>\n",
       "      <td>69</td>\n",
       "    </tr>\n",
       "    <tr>\n",
       "      <th>4049</th>\n",
       "      <td>Yoshiaki</td>\n",
       "      <td>Yatsu</td>\n",
       "      <td>67</td>\n",
       "    </tr>\n",
       "    <tr>\n",
       "      <th>1332</th>\n",
       "      <td>Gerard</td>\n",
       "      <td>Gordeau</td>\n",
       "      <td>65</td>\n",
       "    </tr>\n",
       "    <tr>\n",
       "      <th>1354</th>\n",
       "      <td>Rickson</td>\n",
       "      <td>Gracie</td>\n",
       "      <td>65</td>\n",
       "    </tr>\n",
       "  </tbody>\n",
       "</table>\n",
       "</div>"
      ],
      "text/plain": [
       "          name   lastname age\n",
       "3814       Ron  van Clief  81\n",
       "650     Branko    Cikatic  69\n",
       "4049  Yoshiaki      Yatsu  67\n",
       "1332    Gerard    Gordeau  65\n",
       "1354   Rickson     Gracie  65"
      ]
     },
     "execution_count": 16,
     "metadata": {},
     "output_type": "execute_result"
    }
   ],
   "source": [
    "df_fighters_sorted = df_fighters_data.sort_values(by='age', ascending=False)\n",
    "df_fighters_sorted[['name', 'lastname', 'age']].head(5)"
   ]
  },
  {
   "cell_type": "markdown",
   "metadata": {},
   "source": [
    "### Tallest Fighter"
   ]
  },
  {
   "cell_type": "code",
   "execution_count": 21,
   "metadata": {},
   "outputs": [
    {
     "data": {
      "text/html": [
       "<div>\n",
       "<style scoped>\n",
       "    .dataframe tbody tr th:only-of-type {\n",
       "        vertical-align: middle;\n",
       "    }\n",
       "\n",
       "    .dataframe tbody tr th {\n",
       "        vertical-align: top;\n",
       "    }\n",
       "\n",
       "    .dataframe thead th {\n",
       "        text-align: right;\n",
       "    }\n",
       "</style>\n",
       "<table border=\"1\" class=\"dataframe\">\n",
       "  <thead>\n",
       "    <tr style=\"text-align: right;\">\n",
       "      <th></th>\n",
       "      <th>name</th>\n",
       "      <th>nickname</th>\n",
       "      <th>lastname</th>\n",
       "      <th>height_cm</th>\n",
       "    </tr>\n",
       "  </thead>\n",
       "  <tbody>\n",
       "    <tr>\n",
       "      <th>3407</th>\n",
       "      <td>Paulo</td>\n",
       "      <td>Giant</td>\n",
       "      <td>Cesar Silva</td>\n",
       "      <td>226.06</td>\n",
       "    </tr>\n",
       "    <tr>\n",
       "      <th>634</th>\n",
       "      <td>Hong</td>\n",
       "      <td>Techno Goliath</td>\n",
       "      <td>Man Choi</td>\n",
       "      <td>218.44</td>\n",
       "    </tr>\n",
       "    <tr>\n",
       "      <th>2874</th>\n",
       "      <td>Cory</td>\n",
       "      <td>LA Giant</td>\n",
       "      <td>Peterson</td>\n",
       "      <td>210.82</td>\n",
       "    </tr>\n",
       "    <tr>\n",
       "      <th>3598</th>\n",
       "      <td>Stefan</td>\n",
       "      <td>Skyscraper</td>\n",
       "      <td>Struve</td>\n",
       "      <td>210.82</td>\n",
       "    </tr>\n",
       "    <tr>\n",
       "      <th>1759</th>\n",
       "      <td>Nathan</td>\n",
       "      <td>NaN</td>\n",
       "      <td>Jones</td>\n",
       "      <td>210.82</td>\n",
       "    </tr>\n",
       "  </tbody>\n",
       "</table>\n",
       "</div>"
      ],
      "text/plain": [
       "        name        nickname     lastname  height_cm\n",
       "3407   Paulo           Giant  Cesar Silva     226.06\n",
       "634     Hong  Techno Goliath     Man Choi     218.44\n",
       "2874    Cory        LA Giant     Peterson     210.82\n",
       "3598  Stefan      Skyscraper       Struve     210.82\n",
       "1759  Nathan             NaN        Jones     210.82"
      ]
     },
     "execution_count": 21,
     "metadata": {},
     "output_type": "execute_result"
    }
   ],
   "source": [
    "df_fighters_sorted = df_fighters_data.sort_values(by='height_cm', ascending=False)\n",
    "df_fighters_sorted[['name', 'nickname', 'lastname', 'height_cm']].head(5)"
   ]
  }
 ],
 "metadata": {
  "kernelspec": {
   "display_name": ".venv",
   "language": "python",
   "name": "python3"
  },
  "language_info": {
   "codemirror_mode": {
    "name": "ipython",
    "version": 3
   },
   "file_extension": ".py",
   "mimetype": "text/x-python",
   "name": "python",
   "nbconvert_exporter": "python",
   "pygments_lexer": "ipython3",
   "version": "3.12.0"
  }
 },
 "nbformat": 4,
 "nbformat_minor": 2
}
