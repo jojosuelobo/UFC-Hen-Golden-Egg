{
 "cells": [
  {
   "cell_type": "markdown",
   "metadata": {},
   "source": [
    "# The UFC Hen that laid golden eggs\n",
    "lorem ipsum\n",
    "CSV from: https://www.kaggle.com/datasets/remypereira/mma-dataset-2023-ufc?resource=download"
   ]
  },
  {
   "cell_type": "code",
   "execution_count": 2,
   "metadata": {},
   "outputs": [],
   "source": [
    "import pandas as pd"
   ]
  },
  {
   "cell_type": "code",
   "execution_count": 3,
   "metadata": {},
   "outputs": [],
   "source": [
    "df_fighters = pd.read_csv('ufc_fighter_data.csv')\n",
    "df_fighters_stats = pd.read_csv('ufc_fight_stat_data.csv')\n",
    "df_fights = pd.read_csv('ufc_fight_data.csv')\n",
    "df_events = pd.read_csv('ufc_event_data.csv')"
   ]
  },
  {
   "cell_type": "code",
   "execution_count": 4,
   "metadata": {},
   "outputs": [],
   "source": [
    "df_fighters = df_fighters.rename(\n",
    "    columns={\n",
    "        'fighter_f_name': 'name', \n",
    "        'fighter_l_name': 'lastname', \n",
    "        'fighter_nickname': 'nickname',\n",
    "        'fighter_height_cm': 'height_cm',\n",
    "        'fighter_weight_lbs': 'weight_lbs',\n",
    "        'fighter_reach_cm': 'reach_cm',\n",
    "        'fighter_stance': 'stance',\n",
    "        'fighter_dob': 'date_birth',\n",
    "        'fighter_w': 'wins',\n",
    "        'fighter_l': 'losses',\n",
    "        'fighter_d': 'draws',\n",
    "        'fighter_nc_dq': 'no_contests', # No. of no contests or disqualifications\n",
    "        'fighter_url': 'url' # URL used to scrape fighter data from ufcstats.com\n",
    "    })"
   ]
  },
  {
   "cell_type": "code",
   "execution_count": 5,
   "metadata": {},
   "outputs": [],
   "source": [
    "df = pd.merge(df_fights, df_fighters_stats, on='fight_id', how='inner')\n",
    "df = pd.merge(df, df_fighters, on='fighter_id', how='inner')\n",
    "df_events = pd.merge(df, df_events, on='event_id', how='inner')"
   ]
  },
  {
   "cell_type": "code",
   "execution_count": 10,
   "metadata": {},
   "outputs": [
    {
     "data": {
      "text/html": [
       "<div>\n",
       "<style scoped>\n",
       "    .dataframe tbody tr th:only-of-type {\n",
       "        vertical-align: middle;\n",
       "    }\n",
       "\n",
       "    .dataframe tbody tr th {\n",
       "        vertical-align: top;\n",
       "    }\n",
       "\n",
       "    .dataframe thead th {\n",
       "        text-align: right;\n",
       "    }\n",
       "</style>\n",
       "<table border=\"1\" class=\"dataframe\">\n",
       "  <thead>\n",
       "    <tr style=\"text-align: right;\">\n",
       "      <th></th>\n",
       "      <th>num_fights</th>\n",
       "      <th>name</th>\n",
       "      <th>lastname</th>\n",
       "      <th>nickname</th>\n",
       "    </tr>\n",
       "  </thead>\n",
       "  <tbody>\n",
       "    <tr>\n",
       "      <th>0</th>\n",
       "      <td>41</td>\n",
       "      <td>Jim</td>\n",
       "      <td>Miller</td>\n",
       "      <td>A-10</td>\n",
       "    </tr>\n",
       "    <tr>\n",
       "      <th>1</th>\n",
       "      <td>39</td>\n",
       "      <td>Andrei</td>\n",
       "      <td>Arlovski</td>\n",
       "      <td>The Pitbull</td>\n",
       "    </tr>\n",
       "    <tr>\n",
       "      <th>2</th>\n",
       "      <td>37</td>\n",
       "      <td>Donald</td>\n",
       "      <td>Cerrone</td>\n",
       "      <td>Cowboy</td>\n",
       "    </tr>\n",
       "    <tr>\n",
       "      <th>3</th>\n",
       "      <td>35</td>\n",
       "      <td>Clay</td>\n",
       "      <td>Guida</td>\n",
       "      <td>The Carpenter</td>\n",
       "    </tr>\n",
       "    <tr>\n",
       "      <th>4</th>\n",
       "      <td>34</td>\n",
       "      <td>Rafael</td>\n",
       "      <td>Dos Anjos</td>\n",
       "      <td>NaN</td>\n",
       "    </tr>\n",
       "    <tr>\n",
       "      <th>5</th>\n",
       "      <td>33</td>\n",
       "      <td>Demian</td>\n",
       "      <td>Maia</td>\n",
       "      <td>NaN</td>\n",
       "    </tr>\n",
       "    <tr>\n",
       "      <th>6</th>\n",
       "      <td>33</td>\n",
       "      <td>Jeremy</td>\n",
       "      <td>Stephens</td>\n",
       "      <td>Lil' Heathen</td>\n",
       "    </tr>\n",
       "    <tr>\n",
       "      <th>7</th>\n",
       "      <td>32</td>\n",
       "      <td>Diego</td>\n",
       "      <td>Sanchez</td>\n",
       "      <td>Nightmare</td>\n",
       "    </tr>\n",
       "    <tr>\n",
       "      <th>8</th>\n",
       "      <td>31</td>\n",
       "      <td>Charles</td>\n",
       "      <td>Oliveira</td>\n",
       "      <td>Do Bronxs</td>\n",
       "    </tr>\n",
       "    <tr>\n",
       "      <th>9</th>\n",
       "      <td>31</td>\n",
       "      <td>Neil</td>\n",
       "      <td>Magny</td>\n",
       "      <td>The Haitian Sensation</td>\n",
       "    </tr>\n",
       "  </tbody>\n",
       "</table>\n",
       "</div>"
      ],
      "text/plain": [
       "   num_fights     name   lastname               nickname\n",
       "0          41      Jim     Miller                   A-10\n",
       "1          39   Andrei   Arlovski            The Pitbull\n",
       "2          37   Donald    Cerrone                 Cowboy\n",
       "3          35     Clay      Guida          The Carpenter\n",
       "4          34   Rafael  Dos Anjos                    NaN\n",
       "5          33   Demian       Maia                    NaN\n",
       "6          33   Jeremy   Stephens           Lil' Heathen\n",
       "7          32    Diego    Sanchez              Nightmare\n",
       "8          31  Charles   Oliveira              Do Bronxs\n",
       "9          31     Neil      Magny  The Haitian Sensation"
      ]
     },
     "execution_count": 10,
     "metadata": {},
     "output_type": "execute_result"
    }
   ],
   "source": [
    "# Count the number of fights per fighter\n",
    "fights_per_fighter = df_events['fighter_id'].value_counts()\n",
    "\n",
    "# Create a dataframe with the number of fights per fighter\n",
    "df_fights_per_fighter = pd.DataFrame({'fighter_id': fights_per_fighter.index, 'num_fights': fights_per_fighter.values}) \n",
    "\n",
    "# Merge the dataframe with the number of fights per fighter with the dataframe of fighters\n",
    "df_fights_per_fighter = pd.merge(df_fights_per_fighter, df_fighters, on='fighter_id', how='inner')\n",
    "\n",
    "fighter_more_fights = df_fights_per_fighter.sort_values(by='num_fights', ascending=False)\n",
    "fighter_more_fights[['num_fights', 'name', 'lastname', 'nickname']].head(10)\n"
   ]
  }
 ],
 "metadata": {
  "kernelspec": {
   "display_name": ".venv",
   "language": "python",
   "name": "python3"
  },
  "language_info": {
   "codemirror_mode": {
    "name": "ipython",
    "version": 3
   },
   "file_extension": ".py",
   "mimetype": "text/x-python",
   "name": "python",
   "nbconvert_exporter": "python",
   "pygments_lexer": "ipython3",
   "version": "3.12.0"
  }
 },
 "nbformat": 4,
 "nbformat_minor": 2
}
