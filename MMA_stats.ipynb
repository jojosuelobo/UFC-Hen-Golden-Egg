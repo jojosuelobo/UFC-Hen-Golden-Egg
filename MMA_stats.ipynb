{
 "cells": [
  {
   "cell_type": "markdown",
   "metadata": {},
   "source": [
    "# The UFC Hen that laid golden eggs\n",
    "lorem ipsum\n",
    "CSV from: https://www.kaggle.com/datasets/remypereira/mma-dataset-2023-ufc?resource=download"
   ]
  },
  {
   "cell_type": "markdown",
   "metadata": {},
   "source": [
    "### Import files and create DataFrames  "
   ]
  },
  {
   "cell_type": "code",
   "execution_count": 4,
   "metadata": {},
   "outputs": [],
   "source": [
    "import pandas as pd"
   ]
  },
  {
   "cell_type": "markdown",
   "metadata": {},
   "source": [
    "Creta a Dataframe with content on CSV"
   ]
  },
  {
   "cell_type": "code",
   "execution_count": 5,
   "metadata": {},
   "outputs": [],
   "source": [
    "df_fighters = pd.read_csv('data/ufc_fighter_data.csv')\n",
    "df_fighters_stats = pd.read_csv('data/ufc_fight_stat_data.csv')\n",
    "df_fights = pd.read_csv('data/ufc_fight_data.csv')\n",
    "df_events = pd.read_csv('data/ufc_event_data.csv')"
   ]
  },
  {
   "cell_type": "markdown",
   "metadata": {},
   "source": [
    "Rename columns to be more clear "
   ]
  },
  {
   "cell_type": "code",
   "execution_count": 7,
   "metadata": {},
   "outputs": [],
   "source": [
    "df_fighters = df_fighters.rename(\n",
    "    columns={\n",
    "        'fighter_f_name': 'name', \n",
    "        'fighter_l_name': 'lastname', \n",
    "        'fighter_nickname': 'nickname',\n",
    "        'fighter_height_cm': 'height_cm',\n",
    "        'fighter_weight_lbs': 'weight_lbs',\n",
    "        'fighter_reach_cm': 'reach_cm',\n",
    "        'fighter_stance': 'stance',\n",
    "        'fighter_dob': 'date_birth',\n",
    "        'fighter_w': 'wins',\n",
    "        'fighter_l': 'losses',\n",
    "        'fighter_d': 'draws',\n",
    "        'fighter_nc_dq': 'no_contests', # No. of no contests or disqualifications\n",
    "        'fighter_url': 'url' # URL used to scrape fighter data from ufcstats.com\n",
    "    })"
   ]
  },
  {
   "cell_type": "code",
   "execution_count": 8,
   "metadata": {},
   "outputs": [],
   "source": [
    "df = pd.merge(df_fights, df_fighters_stats, on='fight_id', how='inner')\n",
    "df = pd.merge(df, df_fighters, on='fighter_id', how='inner')\n",
    "df_events = pd.merge(df, df_events, on='event_id', how='inner')"
   ]
  },
  {
   "cell_type": "markdown",
   "metadata": {},
   "source": [
    "## Stats about MMA figherts"
   ]
  },
  {
   "cell_type": "markdown",
   "metadata": {},
   "source": [
    "### Fighter with more fights in UFC"
   ]
  },
  {
   "cell_type": "code",
   "execution_count": 18,
   "metadata": {},
   "outputs": [
    {
     "data": {
      "text/html": [
       "<div>\n",
       "<style scoped>\n",
       "    .dataframe tbody tr th:only-of-type {\n",
       "        vertical-align: middle;\n",
       "    }\n",
       "\n",
       "    .dataframe tbody tr th {\n",
       "        vertical-align: top;\n",
       "    }\n",
       "\n",
       "    .dataframe thead th {\n",
       "        text-align: right;\n",
       "    }\n",
       "</style>\n",
       "<table border=\"1\" class=\"dataframe\">\n",
       "  <thead>\n",
       "    <tr style=\"text-align: right;\">\n",
       "      <th></th>\n",
       "      <th>num_fights</th>\n",
       "      <th>name</th>\n",
       "      <th>nickname</th>\n",
       "      <th>lastname</th>\n",
       "      <th>nickname</th>\n",
       "    </tr>\n",
       "  </thead>\n",
       "  <tbody>\n",
       "    <tr>\n",
       "      <th>0</th>\n",
       "      <td>41</td>\n",
       "      <td>Jim</td>\n",
       "      <td>A-10</td>\n",
       "      <td>Miller</td>\n",
       "      <td>A-10</td>\n",
       "    </tr>\n",
       "    <tr>\n",
       "      <th>1</th>\n",
       "      <td>39</td>\n",
       "      <td>Andrei</td>\n",
       "      <td>The Pitbull</td>\n",
       "      <td>Arlovski</td>\n",
       "      <td>The Pitbull</td>\n",
       "    </tr>\n",
       "    <tr>\n",
       "      <th>2</th>\n",
       "      <td>37</td>\n",
       "      <td>Donald</td>\n",
       "      <td>Cowboy</td>\n",
       "      <td>Cerrone</td>\n",
       "      <td>Cowboy</td>\n",
       "    </tr>\n",
       "    <tr>\n",
       "      <th>3</th>\n",
       "      <td>35</td>\n",
       "      <td>Clay</td>\n",
       "      <td>The Carpenter</td>\n",
       "      <td>Guida</td>\n",
       "      <td>The Carpenter</td>\n",
       "    </tr>\n",
       "    <tr>\n",
       "      <th>4</th>\n",
       "      <td>34</td>\n",
       "      <td>Rafael</td>\n",
       "      <td>NaN</td>\n",
       "      <td>Dos Anjos</td>\n",
       "      <td>NaN</td>\n",
       "    </tr>\n",
       "  </tbody>\n",
       "</table>\n",
       "</div>"
      ],
      "text/plain": [
       "   num_fights    name       nickname   lastname       nickname\n",
       "0          41     Jim           A-10     Miller           A-10\n",
       "1          39  Andrei    The Pitbull   Arlovski    The Pitbull\n",
       "2          37  Donald         Cowboy    Cerrone         Cowboy\n",
       "3          35    Clay  The Carpenter      Guida  The Carpenter\n",
       "4          34  Rafael            NaN  Dos Anjos            NaN"
      ]
     },
     "execution_count": 18,
     "metadata": {},
     "output_type": "execute_result"
    }
   ],
   "source": [
    "# Count the number of fights per fighter\n",
    "fights_per_fighter = df_events['fighter_id'].value_counts()\n",
    "\n",
    "# Create a dataframe with the number of fights per fighter\n",
    "df_fights_per_fighter = pd.DataFrame({'fighter_id': fights_per_fighter.index, 'num_fights': fights_per_fighter.values}) \n",
    "\n",
    "# Merge the dataframe with the number of fights per fighter with the dataframe of fighters\n",
    "df_fights_per_fighter = pd.merge(df_fights_per_fighter, df_fighters, on='fighter_id', how='inner')\n",
    "\n",
    "fighter_more_fights = df_fights_per_fighter.sort_values(by='num_fights', ascending=False)\n",
    "fighter_more_fights[['num_fights', 'name', 'nickname', 'lastname', 'nickname']].head(5)\n"
   ]
  },
  {
   "cell_type": "markdown",
   "metadata": {},
   "source": [
    "![Fighter](images\\jimMiller.png \"Jim Miller\")\n"
   ]
  },
  {
   "cell_type": "markdown",
   "metadata": {},
   "source": [
    "### Youngest's UFC Fighter"
   ]
  },
  {
   "cell_type": "code",
   "execution_count": 10,
   "metadata": {},
   "outputs": [],
   "source": [
    "from datetime import datetime\n",
    "\n",
    "df_fighters['date_birth'] = pd.to_datetime(df_fighters['date_birth'])\n",
    "df_fighters['age'] = None\n",
    "today = datetime.now().date()\n",
    "\n",
    "for index, row in df_fighters.iterrows():\n",
    "    birth_date = row['date_birth'].date()\n",
    "    age = today.year - birth_date.year - ((today.month, today.day) < (birth_date.month, birth_date.day))\n",
    "    df_fighters.at[index, 'age'] = age"
   ]
  },
  {
   "cell_type": "code",
   "execution_count": 16,
   "metadata": {},
   "outputs": [
    {
     "data": {
      "text/html": [
       "<div>\n",
       "<style scoped>\n",
       "    .dataframe tbody tr th:only-of-type {\n",
       "        vertical-align: middle;\n",
       "    }\n",
       "\n",
       "    .dataframe tbody tr th {\n",
       "        vertical-align: top;\n",
       "    }\n",
       "\n",
       "    .dataframe thead th {\n",
       "        text-align: right;\n",
       "    }\n",
       "</style>\n",
       "<table border=\"1\" class=\"dataframe\">\n",
       "  <thead>\n",
       "    <tr style=\"text-align: right;\">\n",
       "      <th></th>\n",
       "      <th>name</th>\n",
       "      <th>lastname</th>\n",
       "      <th>age</th>\n",
       "    </tr>\n",
       "  </thead>\n",
       "  <tbody>\n",
       "    <tr>\n",
       "      <th>3161</th>\n",
       "      <td>Raul</td>\n",
       "      <td>Rosas Jr.</td>\n",
       "      <td>19</td>\n",
       "    </tr>\n",
       "    <tr>\n",
       "      <th>3778</th>\n",
       "      <td>Takeru</td>\n",
       "      <td>Uchida</td>\n",
       "      <td>21</td>\n",
       "    </tr>\n",
       "    <tr>\n",
       "      <th>789</th>\n",
       "      <td>Igor</td>\n",
       "      <td>Da Silva</td>\n",
       "      <td>21</td>\n",
       "    </tr>\n",
       "    <tr>\n",
       "      <th>2041</th>\n",
       "      <td>JungHyun</td>\n",
       "      <td>Lee</td>\n",
       "      <td>21</td>\n",
       "    </tr>\n",
       "    <tr>\n",
       "      <th>2641</th>\n",
       "      <td>Yamato</td>\n",
       "      <td>Nishikawa</td>\n",
       "      <td>21</td>\n",
       "    </tr>\n",
       "  </tbody>\n",
       "</table>\n",
       "</div>"
      ],
      "text/plain": [
       "          name   lastname age\n",
       "3161      Raul  Rosas Jr.  19\n",
       "3778    Takeru     Uchida  21\n",
       "789       Igor   Da Silva  21\n",
       "2041  JungHyun        Lee  21\n",
       "2641    Yamato  Nishikawa  21"
      ]
     },
     "execution_count": 16,
     "metadata": {},
     "output_type": "execute_result"
    }
   ],
   "source": [
    "df_fighters_sorted = df_fighters.sort_values(by='age', ascending=True)\n",
    "df_fighters_sorted[['name', 'lastname', 'age']].head(5)"
   ]
  },
  {
   "cell_type": "markdown",
   "metadata": {},
   "source": [
    "![Fighter](images\\raulRosasJr.png \" Raul Rosas Jr\")\n"
   ]
  },
  {
   "cell_type": "markdown",
   "metadata": {},
   "source": [
    "### Tallest's Fighter"
   ]
  },
  {
   "cell_type": "code",
   "execution_count": 15,
   "metadata": {},
   "outputs": [
    {
     "data": {
      "text/html": [
       "<div>\n",
       "<style scoped>\n",
       "    .dataframe tbody tr th:only-of-type {\n",
       "        vertical-align: middle;\n",
       "    }\n",
       "\n",
       "    .dataframe tbody tr th {\n",
       "        vertical-align: top;\n",
       "    }\n",
       "\n",
       "    .dataframe thead th {\n",
       "        text-align: right;\n",
       "    }\n",
       "</style>\n",
       "<table border=\"1\" class=\"dataframe\">\n",
       "  <thead>\n",
       "    <tr style=\"text-align: right;\">\n",
       "      <th></th>\n",
       "      <th>name</th>\n",
       "      <th>nickname</th>\n",
       "      <th>lastname</th>\n",
       "      <th>height_cm</th>\n",
       "    </tr>\n",
       "  </thead>\n",
       "  <tbody>\n",
       "    <tr>\n",
       "      <th>3407</th>\n",
       "      <td>Paulo</td>\n",
       "      <td>Giant</td>\n",
       "      <td>Cesar Silva</td>\n",
       "      <td>226.06</td>\n",
       "    </tr>\n",
       "    <tr>\n",
       "      <th>634</th>\n",
       "      <td>Hong</td>\n",
       "      <td>Techno Goliath</td>\n",
       "      <td>Man Choi</td>\n",
       "      <td>218.44</td>\n",
       "    </tr>\n",
       "    <tr>\n",
       "      <th>2874</th>\n",
       "      <td>Cory</td>\n",
       "      <td>LA Giant</td>\n",
       "      <td>Peterson</td>\n",
       "      <td>210.82</td>\n",
       "    </tr>\n",
       "    <tr>\n",
       "      <th>3598</th>\n",
       "      <td>Stefan</td>\n",
       "      <td>Skyscraper</td>\n",
       "      <td>Struve</td>\n",
       "      <td>210.82</td>\n",
       "    </tr>\n",
       "    <tr>\n",
       "      <th>1759</th>\n",
       "      <td>Nathan</td>\n",
       "      <td>NaN</td>\n",
       "      <td>Jones</td>\n",
       "      <td>210.82</td>\n",
       "    </tr>\n",
       "  </tbody>\n",
       "</table>\n",
       "</div>"
      ],
      "text/plain": [
       "        name        nickname     lastname  height_cm\n",
       "3407   Paulo           Giant  Cesar Silva     226.06\n",
       "634     Hong  Techno Goliath     Man Choi     218.44\n",
       "2874    Cory        LA Giant     Peterson     210.82\n",
       "3598  Stefan      Skyscraper       Struve     210.82\n",
       "1759  Nathan             NaN        Jones     210.82"
      ]
     },
     "execution_count": 15,
     "metadata": {},
     "output_type": "execute_result"
    }
   ],
   "source": [
    "df_fighters_sorted = df_fighters.sort_values(by='height_cm', ascending=False)\n",
    "df_fighters_sorted[['name', 'nickname', 'lastname', 'height_cm']].head(5)"
   ]
  },
  {
   "cell_type": "markdown",
   "metadata": {},
   "source": [
    "![Fighter](images\\PauloCesarSilva.webp \"Paulo Cesar Silvar\")\n"
   ]
  },
  {
   "cell_type": "markdown",
   "metadata": {},
   "source": [
    "### Heaviest's fighter"
   ]
  },
  {
   "cell_type": "code",
   "execution_count": 21,
   "metadata": {},
   "outputs": [
    {
     "data": {
      "text/html": [
       "<div>\n",
       "<style scoped>\n",
       "    .dataframe tbody tr th:only-of-type {\n",
       "        vertical-align: middle;\n",
       "    }\n",
       "\n",
       "    .dataframe tbody tr th {\n",
       "        vertical-align: top;\n",
       "    }\n",
       "\n",
       "    .dataframe thead th {\n",
       "        text-align: right;\n",
       "    }\n",
       "</style>\n",
       "<table border=\"1\" class=\"dataframe\">\n",
       "  <thead>\n",
       "    <tr style=\"text-align: right;\">\n",
       "      <th></th>\n",
       "      <th>name</th>\n",
       "      <th>nickname</th>\n",
       "      <th>lastname</th>\n",
       "      <th>weight_lbs</th>\n",
       "      <th>weight_kg</th>\n",
       "    </tr>\n",
       "  </thead>\n",
       "  <tbody>\n",
       "    <tr>\n",
       "      <th>4046</th>\n",
       "      <td>Emmanuel</td>\n",
       "      <td>NaN</td>\n",
       "      <td>Yarborough</td>\n",
       "      <td>770.0</td>\n",
       "      <td>349.26584</td>\n",
       "    </tr>\n",
       "    <tr>\n",
       "      <th>3767</th>\n",
       "      <td>Teila</td>\n",
       "      <td>NaN</td>\n",
       "      <td>Tuli</td>\n",
       "      <td>430.0</td>\n",
       "      <td>195.04456</td>\n",
       "    </tr>\n",
       "    <tr>\n",
       "      <th>2990</th>\n",
       "      <td>Thomas</td>\n",
       "      <td>NaN</td>\n",
       "      <td>Ramirez</td>\n",
       "      <td>410.0</td>\n",
       "      <td>185.97272</td>\n",
       "    </tr>\n",
       "    <tr>\n",
       "      <th>2874</th>\n",
       "      <td>Cory</td>\n",
       "      <td>LA Giant</td>\n",
       "      <td>Peterson</td>\n",
       "      <td>400.0</td>\n",
       "      <td>181.43680</td>\n",
       "    </tr>\n",
       "    <tr>\n",
       "      <th>2300</th>\n",
       "      <td>John</td>\n",
       "      <td>NaN</td>\n",
       "      <td>Matua</td>\n",
       "      <td>400.0</td>\n",
       "      <td>181.43680</td>\n",
       "    </tr>\n",
       "  </tbody>\n",
       "</table>\n",
       "</div>"
      ],
      "text/plain": [
       "          name  nickname    lastname  weight_lbs  weight_kg\n",
       "4046  Emmanuel       NaN  Yarborough       770.0  349.26584\n",
       "3767     Teila       NaN        Tuli       430.0  195.04456\n",
       "2990    Thomas       NaN     Ramirez       410.0  185.97272\n",
       "2874      Cory  LA Giant    Peterson       400.0  181.43680\n",
       "2300      John       NaN       Matua       400.0  181.43680"
      ]
     },
     "execution_count": 21,
     "metadata": {},
     "output_type": "execute_result"
    }
   ],
   "source": [
    "df_fighters_sorted = df_fighters.sort_values(by='weight_lbs', ascending=False)\n",
    "df_fighters_sorted['weight_kg'] = df_fighters_sorted['weight_lbs'] * 0.453592\n",
    "df_fighters_sorted[['name', 'nickname', 'lastname', 'weight_lbs', 'weight_kg']].head(5)"
   ]
  },
  {
   "cell_type": "markdown",
   "metadata": {},
   "source": [
    "![Fighter](images\\Emanuel_Yarborough.webp \"Emanuel Yarborough\")\n"
   ]
  },
  {
   "cell_type": "code",
   "execution_count": 33,
   "metadata": {},
   "outputs": [
    {
     "data": {
      "text/html": [
       "<div>\n",
       "<style scoped>\n",
       "    .dataframe tbody tr th:only-of-type {\n",
       "        vertical-align: middle;\n",
       "    }\n",
       "\n",
       "    .dataframe tbody tr th {\n",
       "        vertical-align: top;\n",
       "    }\n",
       "\n",
       "    .dataframe thead th {\n",
       "        text-align: right;\n",
       "    }\n",
       "</style>\n",
       "<table border=\"1\" class=\"dataframe\">\n",
       "  <thead>\n",
       "    <tr style=\"text-align: right;\">\n",
       "      <th></th>\n",
       "      <th>name</th>\n",
       "      <th>nickname</th>\n",
       "      <th>lastname</th>\n",
       "      <th>wins</th>\n",
       "      <th>losses</th>\n",
       "      <th>draws</th>\n",
       "      <th>no_contests</th>\n",
       "    </tr>\n",
       "  </thead>\n",
       "  <tbody>\n",
       "    <tr>\n",
       "      <th>1195</th>\n",
       "      <td>Travis</td>\n",
       "      <td>The Ironman</td>\n",
       "      <td>Fulton</td>\n",
       "      <td>253</td>\n",
       "      <td>53</td>\n",
       "      <td>1</td>\n",
       "      <td>1.0</td>\n",
       "    </tr>\n",
       "    <tr>\n",
       "      <th>3362</th>\n",
       "      <td>Dan</td>\n",
       "      <td>The Beast</td>\n",
       "      <td>Severn</td>\n",
       "      <td>101</td>\n",
       "      <td>19</td>\n",
       "      <td>1</td>\n",
       "      <td>NaN</td>\n",
       "    </tr>\n",
       "    <tr>\n",
       "      <th>1602</th>\n",
       "      <td>Jeremy</td>\n",
       "      <td>Gumby</td>\n",
       "      <td>Horn</td>\n",
       "      <td>91</td>\n",
       "      <td>22</td>\n",
       "      <td>5</td>\n",
       "      <td>1.0</td>\n",
       "    </tr>\n",
       "    <tr>\n",
       "      <th>3998</th>\n",
       "      <td>Travis</td>\n",
       "      <td>The Diesel</td>\n",
       "      <td>Wiuff</td>\n",
       "      <td>75</td>\n",
       "      <td>21</td>\n",
       "      <td>0</td>\n",
       "      <td>1.0</td>\n",
       "    </tr>\n",
       "    <tr>\n",
       "      <th>3272</th>\n",
       "      <td>Luis</td>\n",
       "      <td>NaN</td>\n",
       "      <td>Santos</td>\n",
       "      <td>63</td>\n",
       "      <td>10</td>\n",
       "      <td>1</td>\n",
       "      <td>1.0</td>\n",
       "    </tr>\n",
       "  </tbody>\n",
       "</table>\n",
       "</div>"
      ],
      "text/plain": [
       "        name     nickname lastname  wins  losses  draws  no_contests\n",
       "1195  Travis  The Ironman   Fulton   253      53      1          1.0\n",
       "3362     Dan    The Beast   Severn   101      19      1          NaN\n",
       "1602  Jeremy        Gumby     Horn    91      22      5          1.0\n",
       "3998  Travis   The Diesel    Wiuff    75      21      0          1.0\n",
       "3272    Luis          NaN   Santos    63      10      1          1.0"
      ]
     },
     "execution_count": 33,
     "metadata": {},
     "output_type": "execute_result"
    }
   ],
   "source": [
    "more_victories = df_fighters.sort_values(by='wins', ascending=False)\n",
    "more_victories[['name', 'nickname', 'lastname', 'wins', 'losses', 'draws', 'no_contests']].head(5)"
   ]
  },
  {
   "cell_type": "markdown",
   "metadata": {},
   "source": [
    "![Fighter](images\\TravisFulton.jpg \"Travis Fulton\")"
   ]
  }
 ],
 "metadata": {
  "kernelspec": {
   "display_name": ".venv",
   "language": "python",
   "name": "python3"
  },
  "language_info": {
   "codemirror_mode": {
    "name": "ipython",
    "version": 3
   },
   "file_extension": ".py",
   "mimetype": "text/x-python",
   "name": "python",
   "nbconvert_exporter": "python",
   "pygments_lexer": "ipython3",
   "version": "3.12.0"
  }
 },
 "nbformat": 4,
 "nbformat_minor": 2
}
